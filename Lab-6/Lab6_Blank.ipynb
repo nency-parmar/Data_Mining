{
 "cells": [
  {
   "cell_type": "markdown",
   "id": "ee840995",
   "metadata": {},
   "source": [
    "<a href='https://www.darshan.ac.in/'> <img src='https://www.darshan.ac.in/Content/media/DU_Logo.svg' width=\"250\" height=\"300\"/></a>\n",
    "<pre>\n",
    "<center><b><h1>Data Mining</b></center>\n",
    "<center><b><h1>Lab - 6</b></center>   \n",
    "<center><b><h1>23010101193 | 07-07-2025</b></center>   \n",
    "<pre>\n",
    "\n",
    "\n",
    "# Dimensionality Reduction using NumPy\n",
    "\n"
   ]
  },
  {
   "cell_type": "markdown",
   "id": "55e2da2f",
   "metadata": {},
   "source": [
    "\n",
    "## 🔍 What is Data Reduction?\n",
    "\n",
    "Data reduction refers to the process of reducing the amount of data that needs to be processed and stored, while preserving the essential patterns in the data.\n",
    "\n",
    "### Why do we reduce data?\n",
    "- To reduce computational cost.\n",
    "- To remove noise and redundant features.\n",
    "- To improve model performance and training time.\n",
    "- To visualize high-dimensional data in 2D or 3D.\n",
    "\n",
    "Common data reduction techniques include:\n",
    "- Principal Component Analysis (PCA)\n",
    "- Feature selection\n",
    "- Sampling\n"
   ]
  },
  {
   "cell_type": "markdown",
   "id": "c57398c8",
   "metadata": {},
   "source": [
    "\n",
    "## 📉 What is Principal Component Analysis (PCA)?\n",
    "\n",
    "PCA is a **dimensionality reduction technique** that transforms a dataset into a new coordinate system. It identifies the **directions (principal components)** where the variance of the data is maximized.\n",
    "\n",
    "### Key Concepts:\n",
    "- **Principal Components**: New features (linear combinations of original features) capturing most variance.\n",
    "- **Eigenvectors & Eigenvalues**: Used to compute these principal directions.\n",
    "- **Covariance Matrix**: Measures how features vary with each other.\n",
    "\n",
    "PCA helps in **visualizing high-dimensional data**, **noise reduction**, and **speeding up algorithms**.\n"
   ]
  },
  {
   "cell_type": "markdown",
   "id": "8d08c528",
   "metadata": {},
   "source": [
    "\n",
    "## 🧠 NumPy Functions Summary for PCA\n",
    "\n",
    "| Function | Purpose |\n",
    "|---------|---------|\n",
    "| `np.mean(X, axis=0)` | Compute mean of each column (feature-wise mean). |\n",
    "| `X - np.mean(X, axis=0)` | Centering the data (zero mean). |\n",
    "| `np.cov(X, rowvar=False)` | Compute covariance matrix for features. |\n",
    "| `np.linalg.eigh(cov_mat)` | Get eigenvalues and eigenvectors (for symmetric matrices). |\n",
    "| `np.argsort(values)[::-1]` | Sort values in descending order. |\n",
    "| `np.dot(X, eigenvectors)` | Project original data onto new axes. |\n"
   ]
  },
  {
   "cell_type": "markdown",
   "id": "719ba8cf",
   "metadata": {},
   "source": [
    "# Step 1: Load the Iris Dataset"
   ]
  },
  {
   "cell_type": "code",
   "execution_count": 17,
   "id": "31f30ae7",
   "metadata": {},
   "outputs": [
    {
     "name": "stdout",
     "output_type": "stream",
     "text": [
      "Original Shape :  (150, 4)\n",
      "(150,)\n"
     ]
    }
   ],
   "source": [
    "import pandas as pd\n",
    "import numpy as np\n",
    "import matplotlib.pyplot as plt\n",
    "\n",
    "iris = pd.read_csv('iris.csv')\n",
    "# iris\n",
    "X = iris.drop(columns = 'species')\n",
    "Y = iris['species'].map({\n",
    "    'setosa': 0,\n",
    "    'versicolor': 1,\n",
    "    'virginica': 2\n",
    "})\n",
    "\n",
    "print(\"Original Shape : \",X.shape)\n",
    "print(Y.shape)"
   ]
  },
  {
   "cell_type": "markdown",
   "id": "e30873a5",
   "metadata": {},
   "source": [
    "# Step 2: Standardize the data (zero mean)"
   ]
  },
  {
   "cell_type": "code",
   "execution_count": 10,
   "id": "4c8ce884",
   "metadata": {},
   "outputs": [
    {
     "name": "stdout",
     "output_type": "stream",
     "text": [
      "Data After Centering ( First 5 rows ):\n",
      "    sepal_length  sepal_width  petal_length  petal_width\n",
      "0     -0.743333     0.442667        -2.358    -0.999333\n",
      "1     -0.943333    -0.057333        -2.358    -0.999333\n",
      "2     -1.143333     0.142667        -2.458    -0.999333\n",
      "3     -1.243333     0.042667        -2.258    -0.999333\n",
      "4     -0.843333     0.542667        -2.358    -0.999333\n"
     ]
    }
   ],
   "source": [
    "X_meaned = X - np.mean(X,axis = 0)\n",
    "print(\"Data After Centering ( First 5 rows ):\\n\",X_meaned[:5])"
   ]
  },
  {
   "cell_type": "markdown",
   "id": "8f62f2a5",
   "metadata": {},
   "source": [
    "# Step 3: Compute the Covariance Matrix"
   ]
  },
  {
   "cell_type": "code",
   "execution_count": 12,
   "id": "e4c90ce5",
   "metadata": {
    "scrolled": true
   },
   "outputs": [
    {
     "name": "stdout",
     "output_type": "stream",
     "text": [
      "Covariance matrix shape :  (4, 4)\n",
      "[[ 0.68569351 -0.042434    1.27431544  0.51627069]\n",
      " [-0.042434    0.18997942 -0.32965638 -0.12163937]\n",
      " [ 1.27431544 -0.32965638  3.11627785  1.2956094 ]\n",
      " [ 0.51627069 -0.12163937  1.2956094   0.58100626]]\n"
     ]
    }
   ],
   "source": [
    "cov_mat = np.cov(X_meaned,rowvar = False)\n",
    "print(\"Covariance matrix shape : \",cov_mat.shape)\n",
    "print(cov_mat)"
   ]
  },
  {
   "cell_type": "markdown",
   "id": "cd5599f1",
   "metadata": {},
   "source": [
    "# Step 4: Compute eigenvalues and eigenvectors"
   ]
  },
  {
   "cell_type": "code",
   "execution_count": 13,
   "id": "73ff20e5",
   "metadata": {},
   "outputs": [
    {
     "name": "stdout",
     "output_type": "stream",
     "text": [
      "Eigenvalues : \n",
      " [0.02383509 0.0782095  0.24267075 4.22824171]\n",
      "Eigenvectors ( First 2 ) : \n",
      " [[ 0.31548719  0.58202985]\n",
      " [-0.3197231  -0.59791083]\n",
      " [-0.47983899 -0.07623608]\n",
      " [ 0.75365743 -0.54583143]]\n"
     ]
    }
   ],
   "source": [
    "eigen_values, eigen_vectors = np.linalg.eigh(cov_mat)\n",
    "\n",
    "print(\"Eigenvalues : \\n\",eigen_values)\n",
    "print(\"Eigenvectors ( First 2 ) : \\n\",eigen_vectors[:,:2])"
   ]
  },
  {
   "cell_type": "markdown",
   "id": "49ea0584",
   "metadata": {},
   "source": [
    "# Step 5: Compute eigenvalues and eigenvectors"
   ]
  },
  {
   "cell_type": "code",
   "execution_count": 15,
   "id": "787b0e22",
   "metadata": {},
   "outputs": [
    {
     "name": "stdout",
     "output_type": "stream",
     "text": [
      "Sorted Index :  [3 2 1 0]\n",
      "Sorted EigenValues :  [4.22824171 0.24267075 0.0782095  0.02383509]\n",
      "Sorted EigenVectors : \n",
      " [[-0.36138659  0.65658877  0.58202985  0.31548719]\n",
      " [ 0.08452251  0.73016143 -0.59791083 -0.3197231 ]\n",
      " [-0.85667061 -0.17337266 -0.07623608 -0.47983899]\n",
      " [-0.3582892  -0.07548102 -0.54583143  0.75365743]]\n"
     ]
    }
   ],
   "source": [
    "sorted_index = np.argsort(eigen_values)[::-1]\n",
    "sorted_eigenvalues = eigen_values[sorted_index]\n",
    "sorted_eigenvectors = eigen_vectors[:, sorted_index]\n",
    "\n",
    "print(\"Sorted Index : \",sorted_index)\n",
    "print(\"Sorted EigenValues : \",sorted_eigenvalues)\n",
    "print(\"Sorted EigenVectors : \\n\",sorted_eigenvectors)"
   ]
  },
  {
   "cell_type": "markdown",
   "id": "2230c73b",
   "metadata": {},
   "source": [
    "# Step 6: Select the top k eigenvectors (top 2)"
   ]
  },
  {
   "cell_type": "code",
   "execution_count": 16,
   "id": "41ff9d25",
   "metadata": {},
   "outputs": [
    {
     "name": "stdout",
     "output_type": "stream",
     "text": [
      "[[-0.36138659  0.65658877]\n",
      " [ 0.08452251  0.73016143]\n",
      " [-0.85667061 -0.17337266]\n",
      " [-0.3582892  -0.07548102]]\n"
     ]
    }
   ],
   "source": [
    "k = 2\n",
    "eigenvector_subset = sorted_eigenvectors[:,0:k]\n",
    "print(eigenvector_subset)"
   ]
  },
  {
   "cell_type": "markdown",
   "id": "c4831f32",
   "metadata": {},
   "source": [
    "# Step 7: Project the data onto the top k eigenvectors"
   ]
  },
  {
   "cell_type": "code",
   "execution_count": 19,
   "id": "70fceca9",
   "metadata": {},
   "outputs": [
    {
     "data": {
      "text/plain": [
       "(150, 2)"
      ]
     },
     "execution_count": 19,
     "metadata": {},
     "output_type": "execute_result"
    }
   ],
   "source": [
    "x_reduced = np.dot(X_meaned, eigenvector_subset)\n",
    "x_reduced.shape"
   ]
  },
  {
   "cell_type": "markdown",
   "id": "0307d3b7",
   "metadata": {},
   "source": [
    "# Step 8: Plot the PCA-Reduced Data"
   ]
  },
  {
   "cell_type": "code",
   "execution_count": 24,
   "id": "f3d8979d",
   "metadata": {},
   "outputs": [
    {
     "data": {
      "image/png": "[encoded data removed]",
      "text/plain": [
       "<Figure size 800x600 with 1 Axes>"
      ]
     },
     "metadata": {},
     "output_type": "display_data"
    }
   ],
   "source": [
    "plt.figure(figsize = (8,6))\n",
    "plt.scatter(x_reduced[:,0],x_reduced[:,1],c=Y)\n",
    "plt.xlabel('Principal Component 1')\n",
    "plt.ylabel('Principal Component 2')\n",
    "plt.title('PCA - iris Dataset')\n",
    "plt.grid(True)\n",
    "plt.show()"
   ]
  },
  {
   "cell_type": "markdown",
   "id": "5be22d0a",
   "metadata": {},
   "source": [
    "# Extra - Bining Method"
   ]
  },
  {
   "cell_type": "markdown",
   "id": "a199792d",
   "metadata": {},
   "source": [
    "# 5,10,11,13,15,35,50,55,72,92,204,215.\n",
    "Partition them into three bins by each of the following methods:\n",
    "(a) equal-frequency (equal-depth) partitioning\n",
    "(b) equal-width partitioning"
   ]
  },
  {
   "cell_type": "code",
   "execution_count": 26,
   "id": "2736ba83",
   "metadata": {},
   "outputs": [
    {
     "data": {
      "text/plain": [
       "[5, 10, 11, 13, 15, 35, 50, 55, 72, 92, 204, 215]"
      ]
     },
     "execution_count": 26,
     "metadata": {},
     "output_type": "execute_result"
    }
   ],
   "source": [
    "data = [5,10,11,13,15,35,50,55,72,92,204,215]\n",
    "data.sort()\n",
    "print(\"Sorted : \",data)\n",
    "\n",
    "n = len(data)\n",
    "k = 3\n",
    "size = n // k\n",
    "\n",
    "print(\"\\n(a) Equal - Frequency Bins : \")\n",
    "for i in range(0,n,size):\n",
    "    bin_data = data[i:i+size]\n",
    "    print(f\"Bin (i//size+1])\")"
   ]
  },
  {
   "cell_type": "code",
   "execution_count": null,
   "id": "2c77736f",
   "metadata": {},
   "outputs": [],
   "source": []
  }
 ],
 "metadata": {
  "kernelspec": {
   "display_name": "Python [conda env:base] *",
   "language": "python",
   "name": "conda-base-py"
  },
  "language_info": {
   "codemirror_mode": {
    "name": "ipython",
    "version": 3
   },
   "file_extension": ".py",
   "mimetype": "text/x-python",
   "name": "python",
   "nbconvert_exporter": "python",
   "pygments_lexer": "ipython3",
   "version": "3.12.7"
  }
 },
 "nbformat": 4,
 "nbformat_minor": 5
}
